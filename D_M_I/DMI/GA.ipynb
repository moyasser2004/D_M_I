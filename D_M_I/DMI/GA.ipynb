{
 "cells": [
  {
   "cell_type": "markdown",
   "id": "1fa1de37-7d3a-4773-8ef8-0fbc24f85e99",
   "metadata": {},
   "source": [
    "### Genetic Algorithim\n"
   ]
  },
  {
   "cell_type": "code",
   "execution_count": 3,
   "id": "b438afba-a423-4313-b22f-5cdb85bb39d6",
   "metadata": {},
   "outputs": [],
   "source": [
    "import random"
   ]
  },
  {
   "cell_type": "code",
   "execution_count": 4,
   "id": "bbb3fefd-b28c-4f6e-b63a-26ab7b582342",
   "metadata": {},
   "outputs": [
    {
     "name": "stdout",
     "output_type": "stream",
     "text": [
      "Available items:\n",
      " [[1, 2], [2, 4], [3, 4], [4, 5], [5, 7], [6, 9]]\n"
     ]
    }
   ],
   "source": [
    "items = [\n",
    "[1, 2],\n",
    "[2, 4],\n",
    "[3, 4],\n",
    "[4, 5],\n",
    "[5, 7],\n",
    "[6, 9]\n",
    "]\n",
    "# print available items\n",
    "print(\"Available items:\\n\", items)\n"
   ]
  },
  {
   "cell_type": "code",
   "execution_count": 6,
   "id": "a64457c8-1063-4496-911a-51cdc04962da",
   "metadata": {},
   "outputs": [
    {
     "name": "stdout",
     "output_type": "stream",
     "text": [
      "\n",
      "Genetic algorithm parameters:\n",
      "Max weight: 10\n",
      "Population: 10\n",
      "Mutation probability: 0.2\n",
      "Generations: 10 \n",
      "\n"
     ]
    }
   ],
   "source": [
    "max_weight = 10\n",
    "population_size = 10\n",
    "mutation_probability = 0.2\n",
    "generations = 10\n",
    "print(\"\\nGenetic algorithm parameters:\")\n",
    "print(\"Max weight:\", max_weight)\n",
    "print(\"Population:\", population_size)\n",
    "print(\"Mutation probability:\", mutation_probability)\n",
    "print(\"Generations:\", generations, \"\\n\")\n",
    "#print(\"Performing genetic evolution:\")\n"
   ]
  },
  {
   "cell_type": "code",
   "execution_count": 7,
   "id": "c41bcac6-6b63-4ceb-9178-e43fd518efdf",
   "metadata": {},
   "outputs": [
    {
     "name": "stdout",
     "output_type": "stream",
     "text": [
      "Generated a random population of size 10\n"
     ]
    },
    {
     "data": {
      "text/plain": [
       "[[1, 0, 0, 0, 0, 1],\n",
       " [0, 0, 1, 0, 1, 0],\n",
       " [1, 0, 0, 1, 0, 1],\n",
       " [0, 1, 1, 0, 1, 1],\n",
       " [1, 1, 0, 1, 0, 0],\n",
       " [0, 1, 1, 1, 1, 0],\n",
       " [1, 0, 1, 1, 1, 0],\n",
       " [1, 1, 1, 1, 1, 0],\n",
       " [1, 0, 1, 0, 0, 0],\n",
       " [0, 1, 0, 0, 1, 0]]"
      ]
     },
     "execution_count": 7,
     "metadata": {},
     "output_type": "execute_result"
    }
   ],
   "source": [
    "# function to generate a random population\n",
    "def generate_population(size):\n",
    "    population = []\n",
    "    for _ in range(size):\n",
    "        genes = [0, 1]\n",
    "        chromosome = []\n",
    "        for _ in range(len(items)):\n",
    "            chromosome.append(random.choice(genes))\n",
    "        population.append(chromosome)\n",
    "    print(\"Generated a random population of size\", size)\n",
    "    return population\n",
    "# generate a random population\n",
    "population = generate_population(population_size)\n",
    "population\n"
   ]
  },
  {
   "cell_type": "code",
   "execution_count": 8,
   "id": "d8d3b4d9-0d00-4338-be8b-1aa9b4628cca",
   "metadata": {},
   "outputs": [],
   "source": [
    "# function to calculate the fitness of a chromosome\n",
    "def calculate_fitness(chromosome):\n",
    "    total_weight = 0\n",
    "    total_value = 0\n",
    "    for i in range(len(chromosome)):\n",
    "        if chromosome[i] == 1:\n",
    "            total_weight += items[i][0]\n",
    "            total_value += items[i][1]\n",
    "    if total_weight > max_weight:\n",
    "        return 0\n",
    "    else:\n",
    "        return total_value"
   ]
  },
  {
   "cell_type": "code",
   "execution_count": 9,
   "id": "32958d0b-1e41-441b-aa4e-6148bc230343",
   "metadata": {},
   "outputs": [],
   "source": [
    "# function to select two chromosomes for crossover\n",
    "def select_chromosomes(population):\n",
    "    fitness_values = []\n",
    "    for chromosome in population:\n",
    "        fitness_values.append(calculate_fitness(chromosome))\n",
    "    \n",
    "    fitness_values = [float(i)/sum(fitness_values) for i in fitness_values]\n",
    "    parent1 = random.choices(population, weights=fitness_values, k=1)[0]\n",
    "    parent2 = random.choices(population, weights=fitness_values, k=1)[0]\n",
    "    print(\"Selected two chromosomes for crossover\")\n",
    "    return parent1, parent2"
   ]
  },
  {
   "cell_type": "code",
   "execution_count": 10,
   "id": "f972f96a-055c-4020-95ce-cf0892f55992",
   "metadata": {},
   "outputs": [],
   "source": [
    "# function to perform crossover between two chromosomes\n",
    "def crossover(parent1, parent2):\n",
    "    crossover_point = random.randint(0, len(items)-1)\n",
    "    child1 = parent1[0:crossover_point] + parent2[crossover_point:]\n",
    "    child2 = parent2[0:crossover_point] + parent1[crossover_point:]\n",
    "    print(\"Performed crossover between two chromosomes\")\n",
    "    return child1, child2"
   ]
  },
  {
   "cell_type": "code",
   "execution_count": 11,
   "id": "a05776c7-7c1e-4f49-8774-594fd7c2516a",
   "metadata": {},
   "outputs": [],
   "source": [
    "# function to perform mutation on a chromosome\n",
    "def mutate(chromosome):\n",
    "    mutation_point = random.randint(0, len(items)-1)\n",
    "    if chromosome[mutation_point] == 0:\n",
    "        chromosome[mutation_point] = 1\n",
    "    else:\n",
    "        chromosome[mutation_point] = 0\n",
    "    print(\"Performed mutation on a chromosome\")\n",
    "    return chromosome"
   ]
  },
  {
   "cell_type": "code",
   "execution_count": 12,
   "id": "81d758e5-8254-4d8d-aae5-1104509530ac",
   "metadata": {},
   "outputs": [
    {
     "data": {
      "text/plain": [
       "[0, 1, 1, 0, 1, 0]"
      ]
     },
     "execution_count": 12,
     "metadata": {},
     "output_type": "execute_result"
    }
   ],
   "source": [
    "# function to get the best chromosome from the population\n",
    "def get_best(population):\n",
    "    fitness_values = []\n",
    "    for chromosome in population:\n",
    "        fitness_values.append(calculate_fitness(chromosome))\n",
    "\n",
    "    max_value = max(fitness_values)\n",
    "    max_index = fitness_values.index(max_value)\n",
    "    return population[max_index]\n",
    "# get the best chromosome from the population\n",
    "best = get_best(population)\n",
    "best\n",
    "[0, 1, 1, 0, 1, 0]"
   ]
  },
  {
   "cell_type": "code",
   "execution_count": 13,
   "id": "2fd2af61-7d8d-4d6b-92c5-cb420d925ae6",
   "metadata": {},
   "outputs": [
    {
     "name": "stdout",
     "output_type": "stream",
     "text": [
      "Selected two chromosomes for crossover\n",
      "Performed crossover between two chromosomes\n",
      "Selected two chromosomes for crossover\n",
      "Performed crossover between two chromosomes\n",
      "Performed mutation on a chromosome\n",
      "Selected two chromosomes for crossover\n",
      "Performed crossover between two chromosomes\n",
      "Performed mutation on a chromosome\n",
      "Selected two chromosomes for crossover\n",
      "Performed crossover between two chromosomes\n",
      "Selected two chromosomes for crossover\n",
      "Performed crossover between two chromosomes\n",
      "Selected two chromosomes for crossover\n",
      "Performed crossover between two chromosomes\n",
      "Selected two chromosomes for crossover\n",
      "Performed crossover between two chromosomes\n",
      "Selected two chromosomes for crossover\n",
      "Performed crossover between two chromosomes\n",
      "Selected two chromosomes for crossover\n",
      "Performed crossover between two chromosomes\n",
      "Selected two chromosomes for crossover\n",
      "Performed crossover between two chromosomes\n"
     ]
    }
   ],
   "source": [
    "# evolve the population for specified number of generations\n",
    "for _ in range(generations):\n",
    "# select two chromosomes for crossover\n",
    "    parent1, parent2 = select_chromosomes(population)\n",
    "# perform crossover to generate two new chromosomes\n",
    "    child1, child2 = crossover(parent1, parent2)\n",
    "# perform mutation on the two new chromosomes\n",
    "    if random.uniform(0, 1) < mutation_probability:\n",
    "        child1 = mutate(child1)\n",
    "    if random.uniform(0, 1) < mutation_probability:\n",
    "        child2 = mutate(child2)\n",
    "# replace the old population with the new population\n",
    "    population = [child1, child2] + population[2:]\n"
   ]
  },
  {
   "cell_type": "code",
   "execution_count": 14,
   "id": "70b3188b-88a6-46d1-a2f2-9622a938ca83",
   "metadata": {},
   "outputs": [],
   "source": [
    "total_weight = 0\n",
    "total_value = 0\n",
    "for i in range(len(best)):\n",
    "    if best[i] == 1:\n",
    "        total_weight += items[i][0]\n",
    "        total_value += items[i][1]"
   ]
  },
  {
   "cell_type": "code",
   "execution_count": 15,
   "id": "c162ad4d-d078-4dbd-8c8e-d8fb91efdaa4",
   "metadata": {},
   "outputs": [
    {
     "name": "stdout",
     "output_type": "stream",
     "text": [
      "\n",
      "The best solution:\n",
      "Weight: 7\n",
      "Value: 11\n"
     ]
    }
   ],
   "source": [
    "print(\"\\nThe best solution:\")\n",
    "print(\"Weight:\", total_weight)\n",
    "print(\"Value:\", total_value)"
   ]
  },
  {
   "cell_type": "code",
   "execution_count": null,
   "id": "2d943d5f",
   "metadata": {},
   "outputs": [],
   "source": []
  }
 ],
 "metadata": {
  "kernelspec": {
   "display_name": "Python 3 (ipykernel)",
   "language": "python",
   "name": "python3"
  },
  "language_info": {
   "codemirror_mode": {
    "name": "ipython",
    "version": 3
   },
   "file_extension": ".py",
   "mimetype": "text/x-python",
   "name": "python",
   "nbconvert_exporter": "python",
   "pygments_lexer": "ipython3",
   "version": "3.11.7"
  }
 },
 "nbformat": 4,
 "nbformat_minor": 5
}
